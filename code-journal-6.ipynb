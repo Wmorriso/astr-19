{
 "cells": [
  {
   "cell_type": "code",
   "execution_count": 1,
   "id": "339cb5b9-182b-46c6-8301-3420eaedc283",
   "metadata": {},
   "outputs": [],
   "source": [
    "import numpy as np"
   ]
  },
  {
   "cell_type": "code",
   "execution_count": 2,
   "id": "e650f0a4-f956-4141-afd4-c4ca1318ca09",
   "metadata": {},
   "outputs": [],
   "source": [
    "x = np.linspace(0, 2*np.pi, 1000)"
   ]
  },
  {
   "cell_type": "code",
   "execution_count": 3,
   "id": "57c75be0-e64b-4b8c-86d0-5c7cb0d39b29",
   "metadata": {},
   "outputs": [],
   "source": [
    "sinx = np.sin(x)"
   ]
  },
  {
   "cell_type": "markdown",
   "id": "2d4157f2-52c7-4bdb-bd89-d567fbca903a",
   "metadata": {},
   "source": [
    "This funtion take the sin of x "
   ]
  },
  {
   "cell_type": "code",
   "execution_count": 4,
   "id": "fdc6a9c1-d045-4889-a990-c88b28724e32",
   "metadata": {},
   "outputs": [],
   "source": [
    "cosx = np.cos(x)"
   ]
  },
  {
   "cell_type": "markdown",
   "id": "b7f6d679-c031-4488-8081-e50c4c66031e",
   "metadata": {},
   "source": [
    "This funtion takes the cosine of x"
   ]
  },
  {
   "cell_type": "code",
   "execution_count": 5,
   "id": "f23c97d4-11b5-4ed2-9afb-4bccb56cbbd6",
   "metadata": {},
   "outputs": [
    {
     "name": "stdout",
     "output_type": "stream",
     "text": [
      "This is the Table for Sin\n",
      "0.00000|0.00000\n",
      "0.00629|0.00629\n",
      "0.01258|0.01258\n",
      "0.01887|0.01887\n",
      "0.02516|0.02516\n",
      "0.03145|0.03144\n",
      "0.03774|0.03773\n",
      "0.04403|0.04401\n",
      "0.05032|0.05029\n",
      "0.05661|0.05658\n",
      "\n",
      "\n",
      "\n",
      "this is the table for Cosine\n",
      "0.00000|1.00000\n",
      "0.00629|0.99998\n",
      "0.01258|0.99992\n",
      "0.01887|0.99982\n",
      "0.02516|0.99968\n",
      "0.03145|0.99951\n",
      "0.03774|0.99929\n",
      "0.04403|0.99903\n",
      "0.05032|0.99873\n",
      "0.05661|0.99840\n"
     ]
    }
   ],
   "source": [
    "print(\"This is the Table for Sin\")\n",
    "\n",
    "\n",
    "for i in range(len([0,1,2,3,4,5,6,7,8,9])):\n",
    "    print(f'{x[i]:.5f}|{sinx[i]:.5f}')\n",
    "\n",
    "print(\"\\n\\n\\nthis is the table for Cosine\")\n",
    "\n",
    "for i in range(len([0,1,2,3,4,5,6,7,8,9])):\n",
    "    print(f'{x[i]:.5f}|{cosx[i]:.5f}')"
   ]
  },
  {
   "cell_type": "code",
   "execution_count": null,
   "id": "2215f01f-8fab-4563-811d-9df40271697c",
   "metadata": {},
   "outputs": [],
   "source": []
  }
 ],
 "metadata": {
  "kernelspec": {
   "display_name": "Python 3 (ipykernel)",
   "language": "python",
   "name": "python3"
  },
  "language_info": {
   "codemirror_mode": {
    "name": "ipython",
    "version": 3
   },
   "file_extension": ".py",
   "mimetype": "text/x-python",
   "name": "python",
   "nbconvert_exporter": "python",
   "pygments_lexer": "ipython3",
   "version": "3.11.5"
  }
 },
 "nbformat": 4,
 "nbformat_minor": 5
}
